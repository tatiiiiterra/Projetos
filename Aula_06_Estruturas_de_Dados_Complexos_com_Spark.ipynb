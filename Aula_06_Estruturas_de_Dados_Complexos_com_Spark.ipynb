{
  "nbformat": 4,
  "nbformat_minor": 0,
  "metadata": {
    "colab": {
      "name": "Aula 06 - Estruturas de Dados Complexos com Spark.ipynb",
      "provenance": [],
      "collapsed_sections": [],
      "authorship_tag": "ABX9TyMqHpZnlNYqWE2YlFDKztQw",
      "include_colab_link": true
    },
    "kernelspec": {
      "name": "python3",
      "display_name": "Python 3"
    }
  },
  "cells": [
    {
      "cell_type": "markdown",
      "metadata": {
        "id": "view-in-github",
        "colab_type": "text"
      },
      "source": [
        "<a href=\"https://colab.research.google.com/github/tatiiiiterra/Trabalhos-Tiago-Impacta/blob/master/Aula_06_Estruturas_de_Dados_Complexos_com_Spark.ipynb\" target=\"_parent\"><img src=\"https://colab.research.google.com/assets/colab-badge.svg\" alt=\"Open In Colab\"/></a>"
      ]
    },
    {
      "cell_type": "markdown",
      "metadata": {
        "id": "3SCIJtpevQAF"
      },
      "source": [
        "**1 - Configurando o Spark no Python**\n",
        "\n",
        "Etapa responsável por realizar o Download e configuração do Apache Spark."
      ]
    },
    {
      "cell_type": "code",
      "metadata": {
        "id": "chlgUCBcvSoO"
      },
      "source": [
        "#Instacao e configuracao do Java 8\n",
        "!apt-get install openjdk-8-jdk-headless -qq > /dev/null\n",
        "#Download do Apache Spark\n",
        "!wget -q http://apache.osuosl.org/spark/spark-3.0.1/spark-3.0.1-bin-hadoop3.2.tgz\n",
        "#Descompatacao do Apache Spark\n",
        "!tar xf spark-3.0.1-bin-hadoop3.2.tgz\n",
        "#Instalacao do Findspark\n",
        "!pip install -q findspark"
      ],
      "execution_count": 3,
      "outputs": []
    },
    {
      "cell_type": "markdown",
      "metadata": {
        "id": "ltU-FjuPyKVL"
      },
      "source": [
        "**2 - Configurando o Ambiente**\n",
        "\n",
        "Etapa responsável por configurar o ambiente do Spark"
      ]
    },
    {
      "cell_type": "code",
      "metadata": {
        "id": "H2cX3J7dyqws"
      },
      "source": [
        "import os\n",
        "os.environ[\"JAVA_HOME\"] = \"/usr/lib/jvm/java-8-openjdk-amd64\"\n",
        "os.environ[\"SPARK_HOME\"] = \"/content/spark-3.0.1-bin-hadoop3.2\""
      ],
      "execution_count": 4,
      "outputs": []
    },
    {
      "cell_type": "markdown",
      "metadata": {
        "id": "8et_S_xEzSNM"
      },
      "source": [
        "**3 - Configurando a sessão do Spark**\n",
        "\n",
        "Etapa responsável por inicializar a sessão do Spark"
      ]
    },
    {
      "cell_type": "code",
      "metadata": {
        "id": "He49KGPkzWon"
      },
      "source": [
        "import findspark\n",
        "findspark.init()\n",
        "from pyspark.sql import SparkSession\n",
        "spark = SparkSession.builder.master(\"local[*]\").getOrCreate()"
      ],
      "execution_count": 5,
      "outputs": []
    },
    {
      "cell_type": "markdown",
      "metadata": {
        "id": "YmwjlUKZzcTC"
      },
      "source": [
        "**4 - Validando a Configuração e Versão do Spark**\n",
        "\n",
        "Etapa de verificação"
      ]
    },
    {
      "cell_type": "code",
      "metadata": {
        "id": "6roa_gleziIQ",
        "outputId": "b2fb4a2f-612b-4a07-9da8-4307052b8b04",
        "colab": {
          "base_uri": "https://localhost:8080/",
          "height": 34
        }
      },
      "source": [
        "import pyspark\n",
        "print(pyspark.__version__)"
      ],
      "execution_count": 6,
      "outputs": [
        {
          "output_type": "stream",
          "text": [
            "3.0.1\n"
          ],
          "name": "stdout"
        }
      ]
    },
    {
      "cell_type": "markdown",
      "metadata": {
        "id": "6MsBAeZjzmsA"
      },
      "source": [
        "**5 - Download dos Dados do Portal da Transparência**\n",
        "\n",
        "Etapa responsável por realizar o Download das informações de Gastos por meio de cartão de pagamento providas através da API: http://www.portaltransparencia.gov.br/api-de-dados/cartoes?mesExtratoInicio=01%2F2019&mesExtratoFim=12%2F2019&pagina=1\n",
        "\n",
        "\n",
        "\n"
      ]
    },
    {
      "cell_type": "code",
      "metadata": {
        "id": "bwHX8Shm5DNt",
        "outputId": "a6a6ff0d-dd83-4ea6-8d40-6b3ac9c16376",
        "colab": {
          "base_uri": "https://localhost:8080/",
          "height": 68
        }
      },
      "source": [
        "!curl -X GET --header 'Accept: application/json' --header 'chave-api-dados:  32ce7c91f63aa7287c48894ae7860282' 'http://www.portaltransparencia.gov.br/api-de-dados/cartoes?mesExtratoInicio=01%2F2019&mesExtratoFim=12%2F2019&' > consulta_portal_transparencia.json"
      ],
      "execution_count": 55,
      "outputs": [
        {
          "output_type": "stream",
          "text": [
            "  % Total    % Received % Xferd  Average Speed   Time    Time     Time  Current\n",
            "                                 Dload  Upload   Total   Spent    Left  Speed\n",
            "100 25988    0 25988    0     0   4778      0 --:--:--  0:00:05 --:--:--  6972\n"
          ],
          "name": "stdout"
        }
      ]
    },
    {
      "cell_type": "markdown",
      "metadata": {
        "id": "xbFVrT4S_ifG"
      },
      "source": [
        "**6 - Carregando os dados no Spark**\n",
        "Etapa paga a carga de dados no Spark."
      ]
    },
    {
      "cell_type": "code",
      "metadata": {
        "id": "HvlnAfmH_t-M"
      },
      "source": [
        "#Instancia o contexto do Spark\n",
        "sc = spark.sparkContext\n",
        "#Realiza a leitura da nossa consulta realizada na API do Governo Federal sobre Gastos\n",
        "path = \"/content/consulta_portal_transparencia.json\"\n",
        "#Declara dataframe df com o conteudo da api que estava no JSON\n",
        "df = spark.read.json(path)"
      ],
      "execution_count": 56,
      "outputs": []
    },
    {
      "cell_type": "markdown",
      "metadata": {
        "id": "Tn9muMEbANz_"
      },
      "source": [
        "\n",
        "**7 - Explorando os dados que foram obtidos**\n",
        "\n",
        "Etapa de exploração dos dados\n",
        "\n",
        "\n"
      ]
    },
    {
      "cell_type": "code",
      "metadata": {
        "id": "IIz6YgJ4AgB-",
        "outputId": "b8e059b7-2578-4f1a-84ff-5165cffd6513",
        "colab": {
          "base_uri": "https://localhost:8080/",
          "height": 1000
        }
      },
      "source": [
        "#Imprime a estrutura de dados do nosso dataframe\n",
        "df.printSchema()\n",
        "#Imprime uma amosta de dados  (para especificar as linhas basta colocar a quantidade entre ())\n",
        "df.show()"
      ],
      "execution_count": 57,
      "outputs": [
        {
          "output_type": "stream",
          "text": [
            "root\n",
            " |-- dataTransacao: string (nullable = true)\n",
            " |-- estabelecimento: struct (nullable = true)\n",
            " |    |-- cnae: struct (nullable = true)\n",
            " |    |    |-- classe: string (nullable = true)\n",
            " |    |    |-- codigoClasse: string (nullable = true)\n",
            " |    |    |-- codigoDivisao: string (nullable = true)\n",
            " |    |    |-- codigoGrupo: string (nullable = true)\n",
            " |    |    |-- codigoSecao: string (nullable = true)\n",
            " |    |    |-- codigoSubclasse: string (nullable = true)\n",
            " |    |    |-- divisao: string (nullable = true)\n",
            " |    |    |-- grupo: string (nullable = true)\n",
            " |    |    |-- secao: string (nullable = true)\n",
            " |    |    |-- subclasse: string (nullable = true)\n",
            " |    |-- codigoFormatado: string (nullable = true)\n",
            " |    |-- complementoEndereco: string (nullable = true)\n",
            " |    |-- dataAbertura: string (nullable = true)\n",
            " |    |-- descricaoLogradouro: string (nullable = true)\n",
            " |    |-- enderecoEletronico: string (nullable = true)\n",
            " |    |-- localidadePessoa: string (nullable = true)\n",
            " |    |-- municipio: struct (nullable = true)\n",
            " |    |    |-- codigoIBGE: string (nullable = true)\n",
            " |    |    |-- nomeIBGE: string (nullable = true)\n",
            " |    |    |-- pais: string (nullable = true)\n",
            " |    |    |-- uf: struct (nullable = true)\n",
            " |    |    |    |-- nome: string (nullable = true)\n",
            " |    |    |    |-- sigla: string (nullable = true)\n",
            " |    |-- naturezaJuridica: struct (nullable = true)\n",
            " |    |    |-- codigo: string (nullable = true)\n",
            " |    |    |-- codigoTipo: string (nullable = true)\n",
            " |    |    |-- descricao: string (nullable = true)\n",
            " |    |    |-- descricaoTipo: string (nullable = true)\n",
            " |    |-- nome: string (nullable = true)\n",
            " |    |-- nomeBairro: string (nullable = true)\n",
            " |    |-- nomeFantasiaReceita: string (nullable = true)\n",
            " |    |-- numeroCEP: string (nullable = true)\n",
            " |    |-- numeroEndereco: string (nullable = true)\n",
            " |    |-- numeroInscricaoSocial: string (nullable = true)\n",
            " |    |-- numeroTelefone: string (nullable = true)\n",
            " |    |-- razaoSocialReceita: string (nullable = true)\n",
            " |    |-- tipoCodigo: string (nullable = true)\n",
            " |    |-- tipoPessoa: string (nullable = true)\n",
            " |-- id: long (nullable = true)\n",
            " |-- mesExtrato: string (nullable = true)\n",
            " |-- portador: struct (nullable = true)\n",
            " |    |-- codigoFormatado: string (nullable = true)\n",
            " |    |-- nome: string (nullable = true)\n",
            " |-- tipoCartao: struct (nullable = true)\n",
            " |    |-- codigo: string (nullable = true)\n",
            " |    |-- descricao: string (nullable = true)\n",
            " |    |-- id: long (nullable = true)\n",
            " |-- unidadeGestora: struct (nullable = true)\n",
            " |    |-- codigo: string (nullable = true)\n",
            " |    |-- nome: string (nullable = true)\n",
            " |    |-- orgaoVinculado: struct (nullable = true)\n",
            " |    |    |-- cnpj: string (nullable = true)\n",
            " |    |    |-- codigoSIAFI: string (nullable = true)\n",
            " |    |    |-- descricaoPoder: string (nullable = true)\n",
            " |    |    |-- nome: string (nullable = true)\n",
            " |    |    |-- orgaoMaximo: struct (nullable = true)\n",
            " |    |    |    |-- codigo: string (nullable = true)\n",
            " |    |    |    |-- nome: string (nullable = true)\n",
            " |    |    |    |-- sigla: string (nullable = true)\n",
            " |    |    |-- sigla: string (nullable = true)\n",
            " |-- valorTransacao: string (nullable = true)\n",
            "\n",
            "+-------------+--------------------+---------+----------+--------------------+--------------------+--------------------+--------------+\n",
            "|dataTransacao|     estabelecimento|       id|mesExtrato|            portador|          tipoCartao|      unidadeGestora|valorTransacao|\n",
            "+-------------+--------------------+---------+----------+--------------------+--------------------+--------------------+--------------+\n",
            "|   04/11/2019|[[Sem informação,...|202506822|   12/2019|[***.200.821-**, ...|[1, Cartão de Pag...|[114606, UNIDADE ...|        550,00|\n",
            "|   18/02/2019|[[Comércio vareji...|202506823|   03/2019|[***.713.901-**, ...|[1, Cartão de Pag...|[443001, AGENCIA ...|        179,66|\n",
            "|   27/07/2019|[[Sem informação,...|202506824|   09/2019|[***.600.679-**, ...|[1, Cartão de Pag...|[114629, UNIDADE ...|         60,00|\n",
            "|   13/11/2019|[[Comércio vareji...|202506825|   12/2019|[***.628.455-**, ...|[1, Cartão de Pag...|[158717, UNIVERSI...|        118,75|\n",
            "|   04/12/2018|[[Comércio vareji...|202506826|   01/2019|[***.369.131-**, ...|[1, Cartão de Pag...|[114623, UNIDADE ...|         56,54|\n",
            "|   22/07/2019|[[Sem informação,...|202506827|   08/2019|[***.616.252-**, ...|[1, Cartão de Pag...|[114606, UNIDADE ...|      1.000,00|\n",
            "|   09/04/2019|[[Comércio vareji...|202506828|   05/2019|[***.917.010-**, ...|[1, Cartão de Pag...|[154047, FUNDAÇÃO...|         98,46|\n",
            "|   11/07/2019|[[Sem informação,...|202506829|   08/2019|[***.889.836-**, ...|[1, Cartão de Pag...|[158275, INST.FED...|         61,00|\n",
            "|   11/07/2019|[[Sem informação,...|202506830|   08/2019|[***.889.836-**, ...|[1, Cartão de Pag...|[158275, INST.FED...|        210,00|\n",
            "|   05/07/2019|[[Sem informação,...|202506831|   08/2019|[***.520.330-**, ...|[1, Cartão de Pag...|[155001, HOSPITAL...|        336,00|\n",
            "|   17/04/2019|[[Comércio vareji...|202506832|   05/2019|[***.663.692-**, ...|[1, Cartão de Pag...|[254474, INSTITUT...|        238,50|\n",
            "|   09/09/2019|[[Comércio vareji...|202506833|   10/2019|[***.118.156-**, ...|[1, Cartão de Pag...|[158122, INST.FED...|         38,57|\n",
            "|   01/03/2019|[[Comércio vareji...|202506834|   04/2019|[***.739.980-**, ...|[1, Cartão de Pag...|[110001, SECRETAR...|        252,90|\n",
            "|   01/09/2019|[[Sem informação,...|202506835|   10/2019|[***.208.501-**, ...|[1, Cartão de Pag...|[170190, GERêNCIA...|        239,82|\n",
            "|   24/06/2019|[[Comércio vareji...|202506836|   07/2019|[***.486.610-**, ...|[1, Cartão de Pag...|[366003, HOSPITAL...|        794,85|\n",
            "+-------------+--------------------+---------+----------+--------------------+--------------------+--------------------+--------------+\n",
            "\n"
          ],
          "name": "stdout"
        }
      ]
    },
    {
      "cell_type": "markdown",
      "metadata": {
        "id": "BeLKE7BwFeVk"
      },
      "source": [
        "**8 - Tratando e transformando os dados**"
      ]
    },
    {
      "cell_type": "code",
      "metadata": {
        "id": "bZ3Vqx4XFl1o",
        "outputId": "ca1734f2-0678-4838-a4d8-419684f92e8b",
        "colab": {
          "base_uri": "https://localhost:8080/",
          "height": 357
        }
      },
      "source": [
        "dfPrepared = df.selectExpr(\"dataTransacao\",\"estabelecimento.razaoSocialReceita\",\"portador\",\"unidadeGestora\",\"tipoCartao\",\"tipoCartao\",\"valorTransacao\")\n",
        "dfPrepared.show()"
      ],
      "execution_count": 58,
      "outputs": [
        {
          "output_type": "stream",
          "text": [
            "+-------------+--------------------+--------------------+--------------------+--------------------+--------------------+--------------+\n",
            "|dataTransacao|  razaoSocialReceita|            portador|      unidadeGestora|          tipoCartao|          tipoCartao|valorTransacao|\n",
            "+-------------+--------------------+--------------------+--------------------+--------------------+--------------------+--------------+\n",
            "|   04/11/2019|       NAO SE APLICA|[***.200.821-**, ...|[114606, UNIDADE ...|[1, Cartão de Pag...|[1, Cartão de Pag...|        550,00|\n",
            "|   18/02/2019|DROGARIA ROSARIO S/A|[***.713.901-**, ...|[443001, AGENCIA ...|[1, Cartão de Pag...|[1, Cartão de Pag...|        179,66|\n",
            "|   27/07/2019|       NAO SE APLICA|[***.600.679-**, ...|[114629, UNIDADE ...|[1, Cartão de Pag...|[1, Cartão de Pag...|         60,00|\n",
            "|   13/11/2019|BARREIRAS INFORMA...|[***.628.455-**, ...|[158717, UNIVERSI...|[1, Cartão de Pag...|[1, Cartão de Pag...|        118,75|\n",
            "|   04/12/2018|MARMONTELLO & MAR...|[***.369.131-**, ...|[114623, UNIDADE ...|[1, Cartão de Pag...|[1, Cartão de Pag...|         56,54|\n",
            "|   22/07/2019|       NAO SE APLICA|[***.616.252-**, ...|[114606, UNIDADE ...|[1, Cartão de Pag...|[1, Cartão de Pag...|      1.000,00|\n",
            "|   09/04/2019|WMS SUPERMERCADOS...|[***.917.010-**, ...|[154047, FUNDAÇÃO...|[1, Cartão de Pag...|[1, Cartão de Pag...|         98,46|\n",
            "|   11/07/2019|      SEM INFORMACAO|[***.889.836-**, ...|[158275, INST.FED...|[1, Cartão de Pag...|[1, Cartão de Pag...|         61,00|\n",
            "|   11/07/2019|      SEM INFORMACAO|[***.889.836-**, ...|[158275, INST.FED...|[1, Cartão de Pag...|[1, Cartão de Pag...|        210,00|\n",
            "|   05/07/2019|      SEM INFORMACAO|[***.520.330-**, ...|[155001, HOSPITAL...|[1, Cartão de Pag...|[1, Cartão de Pag...|        336,00|\n",
            "|   17/04/2019|BENY MATERIAIS DE...|[***.663.692-**, ...|[254474, INSTITUT...|[1, Cartão de Pag...|[1, Cartão de Pag...|        238,50|\n",
            "|   09/09/2019|FERMAQ - COMERCIO...|[***.118.156-**, ...|[158122, INST.FED...|[1, Cartão de Pag...|[1, Cartão de Pag...|         38,57|\n",
            "|   01/03/2019|A 6 COMERCIO DE C...|[***.739.980-**, ...|[110001, SECRETAR...|[1, Cartão de Pag...|[1, Cartão de Pag...|        252,90|\n",
            "|   01/09/2019|      SEM INFORMACAO|[***.208.501-**, ...|[170190, GERêNCIA...|[1, Cartão de Pag...|[1, Cartão de Pag...|        239,82|\n",
            "|   24/06/2019|ANA BEATRIZ DE FR...|[***.486.610-**, ...|[366003, HOSPITAL...|[1, Cartão de Pag...|[1, Cartão de Pag...|        794,85|\n",
            "+-------------+--------------------+--------------------+--------------------+--------------------+--------------------+--------------+\n",
            "\n"
          ],
          "name": "stdout"
        }
      ]
    },
    {
      "cell_type": "markdown",
      "metadata": {
        "id": "hI691HdBTOQR"
      },
      "source": [
        "**9 - Analise das informações e resultados obtidos**\n",
        "\n",
        "Etapa onde são realizadas as analises utilizando linguagem SQL para por exemplo descobrir quem mais gastou no ano vigente."
      ]
    },
    {
      "cell_type": "code",
      "metadata": {
        "id": "C36BGOiQTTOl"
      },
      "source": [
        "#Declara tabela temporaria no SparkSQL\n",
        "dfPrepared.createOrReplaceTempView(\"dfPrepared\")"
      ],
      "execution_count": 60,
      "outputs": []
    },
    {
      "cell_type": "code",
      "metadata": {
        "id": "rdHo8yafTeYd",
        "outputId": "8219609c-5947-4e4b-a44d-42385ede7afb",
        "colab": {
          "base_uri": "https://localhost:8080/",
          "height": 119
        }
      },
      "source": [
        "topTravels = spark.sql(\"select max (valorTransacao) from dfPrepared\")\n",
        "topTravels.show()"
      ],
      "execution_count": 61,
      "outputs": [
        {
          "output_type": "stream",
          "text": [
            "+-------------------+\n",
            "|max(valorTransacao)|\n",
            "+-------------------+\n",
            "|              98,46|\n",
            "+-------------------+\n",
            "\n"
          ],
          "name": "stdout"
        }
      ]
    },
    {
      "cell_type": "code",
      "metadata": {
        "id": "5vUXbkEOesr6",
        "outputId": "32c6af4b-b2e0-4e9c-8d0b-b2b22b92de84",
        "colab": {
          "base_uri": "https://localhost:8080/",
          "height": 119
        }
      },
      "source": [
        "topTravels = spark.sql(\"select min (valorTransacao) from dfPrepared\")\n",
        "topTravels.show()"
      ],
      "execution_count": 62,
      "outputs": [
        {
          "output_type": "stream",
          "text": [
            "+-------------------+\n",
            "|min(valorTransacao)|\n",
            "+-------------------+\n",
            "|           1.000,00|\n",
            "+-------------------+\n",
            "\n"
          ],
          "name": "stdout"
        }
      ]
    }
  ]
}