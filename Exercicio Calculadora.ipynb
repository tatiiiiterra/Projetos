{
 "cells": [
  {
   "cell_type": "markdown",
   "metadata": {},
   "source": [
    "<h3>Exercicio Calculadora</h3>\n",
    "\n",
    "Apartir do array: nota = [9,6,7,3,8,8, \"oito\", \"A\", \"C\"] cansar as midias estes valores.\n",
    "Obs: Veja que tem strigs nesse array, a midia só se tira."
   ]
  },
  {
   "cell_type": "code",
   "execution_count": 8,
   "metadata": {},
   "outputs": [
    {
     "name": "stdout",
     "output_type": "stream",
     "text": [
      "6\n",
      "9\n",
      "Media_Notas 1.5\n",
      "15\n",
      "Media_Notas 2.5\n",
      "22\n",
      "Media_Notas 3.67\n",
      "25\n",
      "Media_Notas 4.17\n",
      "28\n",
      "Media_Notas 4.67\n",
      "36\n",
      "Media_Notas 6.0\n"
     ]
    }
   ],
   "source": [
    "Notas = [9,6,7,3,3,8,\"oito\",\"A\",\"C\"]\n",
    "\n",
    "Notas.remove(\"C\")\n",
    "Notas.remove(\"A\")\n",
    "Notas.remove(\"oito\")\n",
    "Soma_Notas = len(Notas)\n",
    "\n",
    "print(Soma_Notas)\n",
    "\n",
    "Total_Notas = 0\n",
    "\n",
    "for n in Notas:\n",
    "    Total_Notas = Total_Notas + n\n",
    "    \n",
    "    print(Total_Notas)\n",
    "    \n",
    "    Media_Notas = Total_Notas / Soma_Notas\n",
    "    \n",
    "    print('Media_Notas' , round(Media_Notas,2))\n",
    "    "
   ]
  },
  {
   "cell_type": "markdown",
   "metadata": {},
   "source": [
    "<h3>Crie uma calculadora simples</4>"
   ]
  },
  {
   "cell_type": "code",
   "execution_count": 13,
   "metadata": {},
   "outputs": [
    {
     "name": "stdout",
     "output_type": "stream",
     "text": [
      "digite um numero: 14\n",
      "digite outro numero: 18\n",
      "Soma, 14 + 18 = 32\n",
      "Subtracao, 14 - 18 = -4\n",
      "Multiplicacao, 14 x 18 = 252\n",
      "Divisao, 14 / 18 = 0.7777777777777778\n"
     ]
    }
   ],
   "source": [
    "n1 = int(input('digite um numero: '))\n",
    "n2 = int(input('digite outro numero: '))\n",
    "\n",
    "print('Soma, {} + {} = {}'.format(n1, n2, n1 + n2))\n",
    "print('Subtracao, {} - {} = {}'.format(n1, n2, n1 - n2))\n",
    "print('Multiplicacao, {} x {} = {}'.format(n1, n2, n1 * n2))\n",
    "print('Divisao, {} / {} = {}'.format(n1, n2, n1 / n2))\n",
    "\n"
   ]
  },
  {
   "cell_type": "code",
   "execution_count": null,
   "metadata": {},
   "outputs": [],
   "source": []
  }
 ],
 "metadata": {
  "kernelspec": {
   "display_name": "Python 3",
   "language": "python",
   "name": "python3"
  },
  "language_info": {
   "codemirror_mode": {
    "name": "ipython",
    "version": 3
   },
   "file_extension": ".py",
   "mimetype": "text/x-python",
   "name": "python",
   "nbconvert_exporter": "python",
   "pygments_lexer": "ipython3",
   "version": "3.6.5"
  }
 },
 "nbformat": 4,
 "nbformat_minor": 2
}
