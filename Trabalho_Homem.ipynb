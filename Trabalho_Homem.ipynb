{
 "cells": [
  {
   "cell_type": "markdown",
   "metadata": {},
   "source": [
    "<h2>Trabalho do Homem - Faculdade Impacta</h2>\n",
    "\n",
    "Um homem esta em um poço com 10 metros de profundidade, durante o dia ele sobe 2 metros e a noite desce um metro.\n",
    "Construa uma classe que resolverá esse problema. obrigatoriamente ela tem que ter 2 metodos, um métodos sobe e outro metodo desce."
   ]
  },
  {
   "cell_type": "code",
   "execution_count": 2,
   "metadata": {},
   "outputs": [
    {
     "name": "stdout",
     "output_type": "stream",
     "text": [
      "9 dias\n"
     ]
    }
   ],
   "source": [
    "class Homem:\n",
    "    \n",
    "    distanciaPercorrida = 0\n",
    "    sobe = 0\n",
    "    desce = 0\n",
    "    contadorDias = 0\n",
    "\n",
    "    # Construtor\n",
    "    def __init__ (self, sobe, desce):\n",
    "        self.sobe = sobe\n",
    "        self.desce = desce\n",
    "    \n",
    "    # Metodo 1\n",
    "    def subir(self):\n",
    "        self.distanciaPercorrida = self.distanciaPercorrida + self.sobe\n",
    "        self.contadorDias = self.contadorDias + 1\n",
    "        if self.distanciaPercorrida < 10:\n",
    "            self.descer()\n",
    "        return self.contadorDias\n",
    "    \n",
    "    # Metodo 2\n",
    "    def descer(self):\n",
    "        if self.distanciaPercorrida < 10:\n",
    "            self.distanciaPercorrida = self.distanciaPercorrida - self.desce\n",
    "        return self.distanciaPercorrida\n",
    "   \n",
    "    #Metodo 3\n",
    "    def contarDias(self):\n",
    "        while self.distanciaPercorrida < 10:\n",
    "            self.subir()\n",
    "        return self.contadorDias\n",
    "    \n",
    "# Instanciando a classe Homem\n",
    "h = Homem(2,1)\n",
    "print (str(h.contarDias()) + ' dias')"
   ]
  },
  {
   "cell_type": "code",
   "execution_count": null,
   "metadata": {},
   "outputs": [],
   "source": []
  }
 ],
 "metadata": {
  "kernelspec": {
   "display_name": "Python 3",
   "language": "python",
   "name": "python3"
  },
  "language_info": {
   "codemirror_mode": {
    "name": "ipython",
    "version": 3
   },
   "file_extension": ".py",
   "mimetype": "text/x-python",
   "name": "python",
   "nbconvert_exporter": "python",
   "pygments_lexer": "ipython3",
   "version": "3.6.5"
  }
 },
 "nbformat": 4,
 "nbformat_minor": 2
}
