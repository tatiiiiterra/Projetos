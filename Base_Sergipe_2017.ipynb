{
 "cells": [
  {
   "cell_type": "markdown",
   "metadata": {},
   "source": [
    "**Medidas de posição**\n",
    "\n",
    "Dados de nascidos vivos em 2017 de Sergipe e responda às seguintes perguntas:"
   ]
  },
  {
   "cell_type": "code",
   "execution_count": 2,
   "metadata": {
    "colab": {
     "base_uri": "https://localhost:8080/",
     "height": 439
    },
    "id": "w5saRj2prLqf",
    "outputId": "a73987c1-dfcf-4281-a867-6a3671f4301c",
    "scrolled": true
   },
   "outputs": [
    {
     "data": {
      "text/html": [
       "<div>\n",
       "<style scoped>\n",
       "    .dataframe tbody tr th:only-of-type {\n",
       "        vertical-align: middle;\n",
       "    }\n",
       "\n",
       "    .dataframe tbody tr th {\n",
       "        vertical-align: top;\n",
       "    }\n",
       "\n",
       "    .dataframe thead th {\n",
       "        text-align: right;\n",
       "    }\n",
       "</style>\n",
       "<table border=\"1\" class=\"dataframe\">\n",
       "  <thead>\n",
       "    <tr style=\"text-align: right;\">\n",
       "      <th></th>\n",
       "      <th>contador</th>\n",
       "      <th>ORIGEM</th>\n",
       "      <th>CODESTAB</th>\n",
       "      <th>CODMUNNASC</th>\n",
       "      <th>LOCNASC</th>\n",
       "      <th>IDADEMAE</th>\n",
       "      <th>ESTCIVMAE</th>\n",
       "      <th>ESCMAE</th>\n",
       "      <th>CODOCUPMAE</th>\n",
       "      <th>QTDFILVIVO</th>\n",
       "      <th>QTDFILMORT</th>\n",
       "      <th>CODMUNRES</th>\n",
       "      <th>GESTACAO</th>\n",
       "      <th>GRAVIDEZ</th>\n",
       "      <th>PARTO</th>\n",
       "      <th>CONSULTAS</th>\n",
       "      <th>DTNASC</th>\n",
       "      <th>HORANASC</th>\n",
       "      <th>SEXO</th>\n",
       "      <th>APGAR1</th>\n",
       "      <th>APGAR5</th>\n",
       "      <th>RACACOR</th>\n",
       "      <th>PESO</th>\n",
       "      <th>IDANOMAL</th>\n",
       "      <th>DTCADASTRO</th>\n",
       "      <th>CODANOMAL</th>\n",
       "      <th>NUMEROLOTE</th>\n",
       "      <th>VERSAOSIST</th>\n",
       "      <th>DTRECEBIM</th>\n",
       "      <th>DIFDATA</th>\n",
       "      <th>DTRECORIGA</th>\n",
       "      <th>NATURALMAE</th>\n",
       "      <th>CODMUNNATU</th>\n",
       "      <th>CODUFNATU</th>\n",
       "      <th>ESCMAE2010</th>\n",
       "      <th>SERIESCMAE</th>\n",
       "      <th>DTNASCMAE</th>\n",
       "      <th>RACACORMAE</th>\n",
       "      <th>QTDGESTANT</th>\n",
       "      <th>QTDPARTNOR</th>\n",
       "      <th>QTDPARTCES</th>\n",
       "      <th>IDADEPAI</th>\n",
       "      <th>DTULTMENST</th>\n",
       "      <th>SEMAGESTAC</th>\n",
       "      <th>TPMETESTIM</th>\n",
       "      <th>CONSPRENAT</th>\n",
       "      <th>MESPRENAT</th>\n",
       "      <th>TPAPRESENT</th>\n",
       "      <th>STTRABPART</th>\n",
       "      <th>STCESPARTO</th>\n",
       "      <th>TPNASCASSI</th>\n",
       "      <th>TPFUNCRESP</th>\n",
       "      <th>TPDOCRESP</th>\n",
       "      <th>DTDECLARAC</th>\n",
       "      <th>ESCMAEAGR1</th>\n",
       "      <th>STDNEPIDEM</th>\n",
       "      <th>STDNNOVA</th>\n",
       "      <th>CODPAISRES</th>\n",
       "      <th>TPROBSON</th>\n",
       "      <th>PARIDADE</th>\n",
       "      <th>KOTELCHUCK</th>\n",
       "    </tr>\n",
       "  </thead>\n",
       "  <tbody>\n",
       "    <tr>\n",
       "      <th>0</th>\n",
       "      <td>1</td>\n",
       "      <td>1</td>\n",
       "      <td>2415631</td>\n",
       "      <td>230440</td>\n",
       "      <td>1</td>\n",
       "      <td>24</td>\n",
       "      <td>2</td>\n",
       "      <td>4</td>\n",
       "      <td>999992</td>\n",
       "      <td>01</td>\n",
       "      <td>00</td>\n",
       "      <td>280030</td>\n",
       "      <td>5</td>\n",
       "      <td>1</td>\n",
       "      <td>2</td>\n",
       "      <td>4</td>\n",
       "      <td>10012017</td>\n",
       "      <td>1413</td>\n",
       "      <td>1</td>\n",
       "      <td>09</td>\n",
       "      <td>10</td>\n",
       "      <td>4</td>\n",
       "      <td>3556</td>\n",
       "      <td>2</td>\n",
       "      <td>16012017</td>\n",
       "      <td>NaN</td>\n",
       "      <td>20170003</td>\n",
       "      <td>3.2.01</td>\n",
       "      <td>07022017</td>\n",
       "      <td>028</td>\n",
       "      <td>NaN</td>\n",
       "      <td>823</td>\n",
       "      <td>230075</td>\n",
       "      <td>23</td>\n",
       "      <td>3</td>\n",
       "      <td>NaN</td>\n",
       "      <td>08011993</td>\n",
       "      <td>4</td>\n",
       "      <td>01</td>\n",
       "      <td>00</td>\n",
       "      <td>01</td>\n",
       "      <td>NaN</td>\n",
       "      <td>NaN</td>\n",
       "      <td>40</td>\n",
       "      <td>9</td>\n",
       "      <td>10</td>\n",
       "      <td>NaN</td>\n",
       "      <td>1</td>\n",
       "      <td>2</td>\n",
       "      <td>1</td>\n",
       "      <td>1</td>\n",
       "      <td>NaN</td>\n",
       "      <td>0</td>\n",
       "      <td>NaN</td>\n",
       "      <td>12</td>\n",
       "      <td>0</td>\n",
       "      <td>1</td>\n",
       "      <td>NaN</td>\n",
       "      <td>05</td>\n",
       "      <td>1</td>\n",
       "      <td>9</td>\n",
       "    </tr>\n",
       "    <tr>\n",
       "      <th>1</th>\n",
       "      <td>2</td>\n",
       "      <td>1</td>\n",
       "      <td>2005050</td>\n",
       "      <td>270030</td>\n",
       "      <td>1</td>\n",
       "      <td>34</td>\n",
       "      <td>5</td>\n",
       "      <td>4</td>\n",
       "      <td>622020</td>\n",
       "      <td>03</td>\n",
       "      <td>01</td>\n",
       "      <td>280600</td>\n",
       "      <td>5</td>\n",
       "      <td>1</td>\n",
       "      <td>2</td>\n",
       "      <td>3</td>\n",
       "      <td>05042017</td>\n",
       "      <td>1425</td>\n",
       "      <td>1</td>\n",
       "      <td>08</td>\n",
       "      <td>09</td>\n",
       "      <td>4</td>\n",
       "      <td>2760</td>\n",
       "      <td>2</td>\n",
       "      <td>03072017</td>\n",
       "      <td>NaN</td>\n",
       "      <td>20170020</td>\n",
       "      <td>3.2.01</td>\n",
       "      <td>26072017</td>\n",
       "      <td>112</td>\n",
       "      <td>NaN</td>\n",
       "      <td>827</td>\n",
       "      <td>270400</td>\n",
       "      <td>27</td>\n",
       "      <td>3</td>\n",
       "      <td>3</td>\n",
       "      <td>06011983</td>\n",
       "      <td>4</td>\n",
       "      <td>04</td>\n",
       "      <td>03</td>\n",
       "      <td>NaN</td>\n",
       "      <td>NaN</td>\n",
       "      <td>14072016</td>\n",
       "      <td>37</td>\n",
       "      <td>8</td>\n",
       "      <td>05</td>\n",
       "      <td>03</td>\n",
       "      <td>1</td>\n",
       "      <td>2</td>\n",
       "      <td>2</td>\n",
       "      <td>1</td>\n",
       "      <td>NaN</td>\n",
       "      <td>3</td>\n",
       "      <td>05042017</td>\n",
       "      <td>06</td>\n",
       "      <td>0</td>\n",
       "      <td>1</td>\n",
       "      <td>NaN</td>\n",
       "      <td>03</td>\n",
       "      <td>1</td>\n",
       "      <td>3</td>\n",
       "    </tr>\n",
       "    <tr>\n",
       "      <th>2</th>\n",
       "      <td>3</td>\n",
       "      <td>1</td>\n",
       "      <td>2005050</td>\n",
       "      <td>270030</td>\n",
       "      <td>1</td>\n",
       "      <td>19</td>\n",
       "      <td>2</td>\n",
       "      <td>4</td>\n",
       "      <td>622020</td>\n",
       "      <td>NaN</td>\n",
       "      <td>NaN</td>\n",
       "      <td>280120</td>\n",
       "      <td>NaN</td>\n",
       "      <td>1</td>\n",
       "      <td>2</td>\n",
       "      <td>4</td>\n",
       "      <td>03042017</td>\n",
       "      <td>1250</td>\n",
       "      <td>1</td>\n",
       "      <td>08</td>\n",
       "      <td>09</td>\n",
       "      <td>4</td>\n",
       "      <td>3010</td>\n",
       "      <td>2</td>\n",
       "      <td>17042017</td>\n",
       "      <td>NaN</td>\n",
       "      <td>20170011</td>\n",
       "      <td>3.2.01</td>\n",
       "      <td>20042017</td>\n",
       "      <td>017</td>\n",
       "      <td>NaN</td>\n",
       "      <td>827</td>\n",
       "      <td>270030</td>\n",
       "      <td>27</td>\n",
       "      <td>3</td>\n",
       "      <td>3</td>\n",
       "      <td>21081997</td>\n",
       "      <td>4</td>\n",
       "      <td>NaN</td>\n",
       "      <td>NaN</td>\n",
       "      <td>NaN</td>\n",
       "      <td>26</td>\n",
       "      <td>NaN</td>\n",
       "      <td>NaN</td>\n",
       "      <td>NaN</td>\n",
       "      <td>08</td>\n",
       "      <td>01</td>\n",
       "      <td>1</td>\n",
       "      <td>1</td>\n",
       "      <td>2</td>\n",
       "      <td>1</td>\n",
       "      <td>NaN</td>\n",
       "      <td>3</td>\n",
       "      <td>03042017</td>\n",
       "      <td>06</td>\n",
       "      <td>0</td>\n",
       "      <td>1</td>\n",
       "      <td>NaN</td>\n",
       "      <td>11</td>\n",
       "      <td>0</td>\n",
       "      <td>5</td>\n",
       "    </tr>\n",
       "    <tr>\n",
       "      <th>3</th>\n",
       "      <td>4</td>\n",
       "      <td>1</td>\n",
       "      <td>2005026</td>\n",
       "      <td>270030</td>\n",
       "      <td>1</td>\n",
       "      <td>19</td>\n",
       "      <td>2</td>\n",
       "      <td>4</td>\n",
       "      <td>999992</td>\n",
       "      <td>01</td>\n",
       "      <td>NaN</td>\n",
       "      <td>280440</td>\n",
       "      <td>5</td>\n",
       "      <td>1</td>\n",
       "      <td>2</td>\n",
       "      <td>3</td>\n",
       "      <td>29042017</td>\n",
       "      <td>1615</td>\n",
       "      <td>2</td>\n",
       "      <td>08</td>\n",
       "      <td>09</td>\n",
       "      <td>4</td>\n",
       "      <td>3720</td>\n",
       "      <td>2</td>\n",
       "      <td>17052017</td>\n",
       "      <td>NaN</td>\n",
       "      <td>20170015</td>\n",
       "      <td>3.2.01</td>\n",
       "      <td>18052017</td>\n",
       "      <td>019</td>\n",
       "      <td>NaN</td>\n",
       "      <td>827</td>\n",
       "      <td>270170</td>\n",
       "      <td>27</td>\n",
       "      <td>2</td>\n",
       "      <td>8</td>\n",
       "      <td>10041998</td>\n",
       "      <td>4</td>\n",
       "      <td>01</td>\n",
       "      <td>NaN</td>\n",
       "      <td>01</td>\n",
       "      <td>NaN</td>\n",
       "      <td>08082016</td>\n",
       "      <td>37</td>\n",
       "      <td>8</td>\n",
       "      <td>04</td>\n",
       "      <td>04</td>\n",
       "      <td>1</td>\n",
       "      <td>1</td>\n",
       "      <td>1</td>\n",
       "      <td>1</td>\n",
       "      <td>2</td>\n",
       "      <td>3</td>\n",
       "      <td>29042017</td>\n",
       "      <td>04</td>\n",
       "      <td>0</td>\n",
       "      <td>1</td>\n",
       "      <td>NaN</td>\n",
       "      <td>05</td>\n",
       "      <td>1</td>\n",
       "      <td>2</td>\n",
       "    </tr>\n",
       "    <tr>\n",
       "      <th>4</th>\n",
       "      <td>5</td>\n",
       "      <td>1</td>\n",
       "      <td>2722429</td>\n",
       "      <td>270400</td>\n",
       "      <td>1</td>\n",
       "      <td>16</td>\n",
       "      <td>1</td>\n",
       "      <td>4</td>\n",
       "      <td>999991</td>\n",
       "      <td>00</td>\n",
       "      <td>04</td>\n",
       "      <td>280570</td>\n",
       "      <td>5</td>\n",
       "      <td>1</td>\n",
       "      <td>1</td>\n",
       "      <td>3</td>\n",
       "      <td>19042017</td>\n",
       "      <td>1014</td>\n",
       "      <td>1</td>\n",
       "      <td>09</td>\n",
       "      <td>10</td>\n",
       "      <td>4</td>\n",
       "      <td>2900</td>\n",
       "      <td>2</td>\n",
       "      <td>06062017</td>\n",
       "      <td>NaN</td>\n",
       "      <td>20170007</td>\n",
       "      <td>3.2.01</td>\n",
       "      <td>06062017</td>\n",
       "      <td>048</td>\n",
       "      <td>NaN</td>\n",
       "      <td>828</td>\n",
       "      <td>280030</td>\n",
       "      <td>28</td>\n",
       "      <td>3</td>\n",
       "      <td>1</td>\n",
       "      <td>30082000</td>\n",
       "      <td>4</td>\n",
       "      <td>00</td>\n",
       "      <td>00</td>\n",
       "      <td>00</td>\n",
       "      <td>NaN</td>\n",
       "      <td>20072016</td>\n",
       "      <td>38</td>\n",
       "      <td>8</td>\n",
       "      <td>05</td>\n",
       "      <td>05</td>\n",
       "      <td>1</td>\n",
       "      <td>2</td>\n",
       "      <td>3</td>\n",
       "      <td>3</td>\n",
       "      <td>2</td>\n",
       "      <td>4</td>\n",
       "      <td>19042017</td>\n",
       "      <td>05</td>\n",
       "      <td>0</td>\n",
       "      <td>1</td>\n",
       "      <td>NaN</td>\n",
       "      <td>03</td>\n",
       "      <td>1</td>\n",
       "      <td>2</td>\n",
       "    </tr>\n",
       "    <tr>\n",
       "      <th>...</th>\n",
       "      <td>...</td>\n",
       "      <td>...</td>\n",
       "      <td>...</td>\n",
       "      <td>...</td>\n",
       "      <td>...</td>\n",
       "      <td>...</td>\n",
       "      <td>...</td>\n",
       "      <td>...</td>\n",
       "      <td>...</td>\n",
       "      <td>...</td>\n",
       "      <td>...</td>\n",
       "      <td>...</td>\n",
       "      <td>...</td>\n",
       "      <td>...</td>\n",
       "      <td>...</td>\n",
       "      <td>...</td>\n",
       "      <td>...</td>\n",
       "      <td>...</td>\n",
       "      <td>...</td>\n",
       "      <td>...</td>\n",
       "      <td>...</td>\n",
       "      <td>...</td>\n",
       "      <td>...</td>\n",
       "      <td>...</td>\n",
       "      <td>...</td>\n",
       "      <td>...</td>\n",
       "      <td>...</td>\n",
       "      <td>...</td>\n",
       "      <td>...</td>\n",
       "      <td>...</td>\n",
       "      <td>...</td>\n",
       "      <td>...</td>\n",
       "      <td>...</td>\n",
       "      <td>...</td>\n",
       "      <td>...</td>\n",
       "      <td>...</td>\n",
       "      <td>...</td>\n",
       "      <td>...</td>\n",
       "      <td>...</td>\n",
       "      <td>...</td>\n",
       "      <td>...</td>\n",
       "      <td>...</td>\n",
       "      <td>...</td>\n",
       "      <td>...</td>\n",
       "      <td>...</td>\n",
       "      <td>...</td>\n",
       "      <td>...</td>\n",
       "      <td>...</td>\n",
       "      <td>...</td>\n",
       "      <td>...</td>\n",
       "      <td>...</td>\n",
       "      <td>...</td>\n",
       "      <td>...</td>\n",
       "      <td>...</td>\n",
       "      <td>...</td>\n",
       "      <td>...</td>\n",
       "      <td>...</td>\n",
       "      <td>...</td>\n",
       "      <td>...</td>\n",
       "      <td>...</td>\n",
       "      <td>...</td>\n",
       "    </tr>\n",
       "    <tr>\n",
       "      <th>33862</th>\n",
       "      <td>33863</td>\n",
       "      <td>1</td>\n",
       "      <td>2115891</td>\n",
       "      <td>314480</td>\n",
       "      <td>1</td>\n",
       "      <td>31</td>\n",
       "      <td>2</td>\n",
       "      <td>5</td>\n",
       "      <td>121010</td>\n",
       "      <td>01</td>\n",
       "      <td>00</td>\n",
       "      <td>280030</td>\n",
       "      <td>4</td>\n",
       "      <td>1</td>\n",
       "      <td>2</td>\n",
       "      <td>4</td>\n",
       "      <td>22092017</td>\n",
       "      <td>0210</td>\n",
       "      <td>1</td>\n",
       "      <td>06</td>\n",
       "      <td>07</td>\n",
       "      <td>1</td>\n",
       "      <td>2735</td>\n",
       "      <td>2</td>\n",
       "      <td>31102017</td>\n",
       "      <td>NaN</td>\n",
       "      <td>20170023</td>\n",
       "      <td>3.2.01</td>\n",
       "      <td>16112017</td>\n",
       "      <td>055</td>\n",
       "      <td>NaN</td>\n",
       "      <td>828</td>\n",
       "      <td>280030</td>\n",
       "      <td>28</td>\n",
       "      <td>5</td>\n",
       "      <td>NaN</td>\n",
       "      <td>05091986</td>\n",
       "      <td>1</td>\n",
       "      <td>01</td>\n",
       "      <td>00</td>\n",
       "      <td>01</td>\n",
       "      <td>35</td>\n",
       "      <td>NaN</td>\n",
       "      <td>36</td>\n",
       "      <td>1</td>\n",
       "      <td>07</td>\n",
       "      <td>02</td>\n",
       "      <td>1</td>\n",
       "      <td>2</td>\n",
       "      <td>2</td>\n",
       "      <td>1</td>\n",
       "      <td>5</td>\n",
       "      <td>4</td>\n",
       "      <td>27092017</td>\n",
       "      <td>08</td>\n",
       "      <td>0</td>\n",
       "      <td>1</td>\n",
       "      <td>NaN</td>\n",
       "      <td>10</td>\n",
       "      <td>1</td>\n",
       "      <td>5</td>\n",
       "    </tr>\n",
       "    <tr>\n",
       "      <th>33863</th>\n",
       "      <td>33864</td>\n",
       "      <td>1</td>\n",
       "      <td>3137163</td>\n",
       "      <td>350610</td>\n",
       "      <td>1</td>\n",
       "      <td>26</td>\n",
       "      <td>2</td>\n",
       "      <td>4</td>\n",
       "      <td>376225</td>\n",
       "      <td>00</td>\n",
       "      <td>00</td>\n",
       "      <td>280030</td>\n",
       "      <td>5</td>\n",
       "      <td>1</td>\n",
       "      <td>2</td>\n",
       "      <td>3</td>\n",
       "      <td>15102017</td>\n",
       "      <td>0335</td>\n",
       "      <td>1</td>\n",
       "      <td>08</td>\n",
       "      <td>09</td>\n",
       "      <td>1</td>\n",
       "      <td>3230</td>\n",
       "      <td>2</td>\n",
       "      <td>13112017</td>\n",
       "      <td>NaN</td>\n",
       "      <td>20170021</td>\n",
       "      <td>3.2.01</td>\n",
       "      <td>16112017</td>\n",
       "      <td>032</td>\n",
       "      <td>NaN</td>\n",
       "      <td>827</td>\n",
       "      <td>270260</td>\n",
       "      <td>27</td>\n",
       "      <td>3</td>\n",
       "      <td>3</td>\n",
       "      <td>11111990</td>\n",
       "      <td>1</td>\n",
       "      <td>00</td>\n",
       "      <td>00</td>\n",
       "      <td>00</td>\n",
       "      <td>31</td>\n",
       "      <td>NaN</td>\n",
       "      <td>39</td>\n",
       "      <td>2</td>\n",
       "      <td>05</td>\n",
       "      <td>02</td>\n",
       "      <td>1</td>\n",
       "      <td>2</td>\n",
       "      <td>1</td>\n",
       "      <td>1</td>\n",
       "      <td>2</td>\n",
       "      <td>3</td>\n",
       "      <td>15102017</td>\n",
       "      <td>06</td>\n",
       "      <td>0</td>\n",
       "      <td>1</td>\n",
       "      <td>NaN</td>\n",
       "      <td>02</td>\n",
       "      <td>0</td>\n",
       "      <td>3</td>\n",
       "    </tr>\n",
       "    <tr>\n",
       "      <th>33864</th>\n",
       "      <td>33865</td>\n",
       "      <td>1</td>\n",
       "      <td>2755092</td>\n",
       "      <td>353800</td>\n",
       "      <td>1</td>\n",
       "      <td>26</td>\n",
       "      <td>1</td>\n",
       "      <td>5</td>\n",
       "      <td>999992</td>\n",
       "      <td>00</td>\n",
       "      <td>01</td>\n",
       "      <td>280030</td>\n",
       "      <td>5</td>\n",
       "      <td>1</td>\n",
       "      <td>2</td>\n",
       "      <td>4</td>\n",
       "      <td>24102017</td>\n",
       "      <td>1343</td>\n",
       "      <td>1</td>\n",
       "      <td>09</td>\n",
       "      <td>09</td>\n",
       "      <td>1</td>\n",
       "      <td>3640</td>\n",
       "      <td>2</td>\n",
       "      <td>01112017</td>\n",
       "      <td>NaN</td>\n",
       "      <td>20170045</td>\n",
       "      <td>3.2.01</td>\n",
       "      <td>08112017</td>\n",
       "      <td>015</td>\n",
       "      <td>NaN</td>\n",
       "      <td>835</td>\n",
       "      <td>354230</td>\n",
       "      <td>35</td>\n",
       "      <td>5</td>\n",
       "      <td>NaN</td>\n",
       "      <td>03101991</td>\n",
       "      <td>1</td>\n",
       "      <td>01</td>\n",
       "      <td>00</td>\n",
       "      <td>00</td>\n",
       "      <td>28</td>\n",
       "      <td>NaN</td>\n",
       "      <td>40</td>\n",
       "      <td>1</td>\n",
       "      <td>11</td>\n",
       "      <td>01</td>\n",
       "      <td>1</td>\n",
       "      <td>2</td>\n",
       "      <td>1</td>\n",
       "      <td>1</td>\n",
       "      <td>5</td>\n",
       "      <td>4</td>\n",
       "      <td>24102017</td>\n",
       "      <td>08</td>\n",
       "      <td>0</td>\n",
       "      <td>1</td>\n",
       "      <td>NaN</td>\n",
       "      <td>04</td>\n",
       "      <td>1</td>\n",
       "      <td>5</td>\n",
       "    </tr>\n",
       "    <tr>\n",
       "      <th>33865</th>\n",
       "      <td>33866</td>\n",
       "      <td>1</td>\n",
       "      <td>2077574</td>\n",
       "      <td>355030</td>\n",
       "      <td>1</td>\n",
       "      <td>33</td>\n",
       "      <td>1</td>\n",
       "      <td>4</td>\n",
       "      <td>999992</td>\n",
       "      <td>01</td>\n",
       "      <td>00</td>\n",
       "      <td>280580</td>\n",
       "      <td>5</td>\n",
       "      <td>1</td>\n",
       "      <td>1</td>\n",
       "      <td>4</td>\n",
       "      <td>21082017</td>\n",
       "      <td>0828</td>\n",
       "      <td>1</td>\n",
       "      <td>08</td>\n",
       "      <td>09</td>\n",
       "      <td>4</td>\n",
       "      <td>3115</td>\n",
       "      <td>2</td>\n",
       "      <td>30082017</td>\n",
       "      <td>NaN</td>\n",
       "      <td>20170036</td>\n",
       "      <td>3.2.01</td>\n",
       "      <td>04092017</td>\n",
       "      <td>014</td>\n",
       "      <td>NaN</td>\n",
       "      <td>835</td>\n",
       "      <td>355030</td>\n",
       "      <td>35</td>\n",
       "      <td>3</td>\n",
       "      <td>2</td>\n",
       "      <td>15041984</td>\n",
       "      <td>4</td>\n",
       "      <td>01</td>\n",
       "      <td>01</td>\n",
       "      <td>00</td>\n",
       "      <td>38</td>\n",
       "      <td>NaN</td>\n",
       "      <td>39</td>\n",
       "      <td>1</td>\n",
       "      <td>07</td>\n",
       "      <td>01</td>\n",
       "      <td>1</td>\n",
       "      <td>1</td>\n",
       "      <td>3</td>\n",
       "      <td>1</td>\n",
       "      <td>5</td>\n",
       "      <td>4</td>\n",
       "      <td>21082017</td>\n",
       "      <td>05</td>\n",
       "      <td>0</td>\n",
       "      <td>1</td>\n",
       "      <td>NaN</td>\n",
       "      <td>04</td>\n",
       "      <td>1</td>\n",
       "      <td>5</td>\n",
       "    </tr>\n",
       "    <tr>\n",
       "      <th>33866</th>\n",
       "      <td>33867</td>\n",
       "      <td>2</td>\n",
       "      <td>6901743</td>\n",
       "      <td>280210</td>\n",
       "      <td>1</td>\n",
       "      <td>23</td>\n",
       "      <td>1</td>\n",
       "      <td>4</td>\n",
       "      <td>622020</td>\n",
       "      <td>02</td>\n",
       "      <td>NaN</td>\n",
       "      <td>280760</td>\n",
       "      <td>5</td>\n",
       "      <td>1</td>\n",
       "      <td>1</td>\n",
       "      <td>4</td>\n",
       "      <td>06112017</td>\n",
       "      <td>2205</td>\n",
       "      <td>2</td>\n",
       "      <td>09</td>\n",
       "      <td>10</td>\n",
       "      <td>4</td>\n",
       "      <td>3100</td>\n",
       "      <td>2</td>\n",
       "      <td>14032019</td>\n",
       "      <td>NaN</td>\n",
       "      <td>20190004</td>\n",
       "      <td>3.2.01</td>\n",
       "      <td>NaN</td>\n",
       "      <td>493</td>\n",
       "      <td>NaN</td>\n",
       "      <td>828</td>\n",
       "      <td>280210</td>\n",
       "      <td>28</td>\n",
       "      <td>3</td>\n",
       "      <td>NaN</td>\n",
       "      <td>15121993</td>\n",
       "      <td>4</td>\n",
       "      <td>02</td>\n",
       "      <td>02</td>\n",
       "      <td>NaN</td>\n",
       "      <td>NaN</td>\n",
       "      <td>28012017</td>\n",
       "      <td>40</td>\n",
       "      <td>8</td>\n",
       "      <td>10</td>\n",
       "      <td>03</td>\n",
       "      <td>1</td>\n",
       "      <td>2</td>\n",
       "      <td>3</td>\n",
       "      <td>1</td>\n",
       "      <td>4</td>\n",
       "      <td>4</td>\n",
       "      <td>06112017</td>\n",
       "      <td>12</td>\n",
       "      <td>0</td>\n",
       "      <td>1</td>\n",
       "      <td>NaN</td>\n",
       "      <td>03</td>\n",
       "      <td>1</td>\n",
       "      <td>5</td>\n",
       "    </tr>\n",
       "  </tbody>\n",
       "</table>\n",
       "<p>33867 rows × 61 columns</p>\n",
       "</div>"
      ],
      "text/plain": [
       "      contador ORIGEM CODESTAB  ... TPROBSON PARIDADE KOTELCHUCK\n",
       "0            1      1  2415631  ...       05        1          9\n",
       "1            2      1  2005050  ...       03        1          3\n",
       "2            3      1  2005050  ...       11        0          5\n",
       "3            4      1  2005026  ...       05        1          2\n",
       "4            5      1  2722429  ...       03        1          2\n",
       "...        ...    ...      ...  ...      ...      ...        ...\n",
       "33862    33863      1  2115891  ...       10        1          5\n",
       "33863    33864      1  3137163  ...       02        0          3\n",
       "33864    33865      1  2755092  ...       04        1          5\n",
       "33865    33866      1  2077574  ...       04        1          5\n",
       "33866    33867      2  6901743  ...       03        1          5\n",
       "\n",
       "[33867 rows x 61 columns]"
      ]
     },
     "execution_count": 2,
     "metadata": {
      "tags": []
     },
     "output_type": "execute_result"
    }
   ],
   "source": [
    "import pandas as pd\n",
    "c = '/content/drive/MyDrive/DNSE2017.csv'\n",
    "\n",
    "dfsergipe = pd.read_csv(c, dtype=str)\n",
    "dfsergipe"
   ]
  },
  {
   "cell_type": "code",
   "execution_count": 3,
   "metadata": {
    "id": "2szqWycEt7nj"
   },
   "outputs": [],
   "source": [
    "dfsergipe.PESO = pd.to_numeric(dfsergipe.PESO)\n",
    "dfsergipe.IDADEMAE = pd.to_numeric(dfsergipe.IDADEMAE).astype(pd.Int64Dtype())\n",
    "dfsergipe.IDADEPAI = pd.to_numeric(dfsergipe.IDADEPAI).astype(pd.Int64Dtype())\n",
    "dfsergipe.QTDFILVIVO = pd.to_numeric(dfsergipe.QTDFILVIVO).astype(pd.Int64Dtype())\n",
    "dfsergipe.QTDFILMORT = pd.to_numeric(dfsergipe.QTDFILMORT).astype(pd.Int64Dtype())\n",
    "dfsergipe.APGAR1 = pd.to_numeric(dfsergipe.APGAR1).astype(pd.Int64Dtype())\n",
    "dfsergipe.APGAR5 = pd.to_numeric(dfsergipe.APGAR5).astype(pd.Int64Dtype())\n",
    "dfsergipe.SEMAGESTAC = pd.to_numeric(dfsergipe.SEMAGESTAC).astype(pd.Int64Dtype())\n",
    "dfsergipe.CONSPRENAT = pd.to_numeric(dfsergipe.CONSPRENAT).astype(pd.Int64Dtype())\n",
    "dfsergipe.SERIESCMAE = pd.to_numeric(dfsergipe.SERIESCMAE).astype(pd.Int64Dtype())\n",
    "dfsergipe.QTDPARTCES = pd.to_numeric(dfsergipe.QTDPARTCES).astype(pd.Int64Dtype())\n",
    "dfsergipe.QTDPARTNOR = pd.to_numeric(dfsergipe.QTDPARTNOR).astype(pd.Int64Dtype())\n",
    "dfsergipe.QTDGESTANT = pd.to_numeric(dfsergipe.QTDGESTANT).astype(pd.Int64Dtype())\n"
   ]
  },
  {
   "cell_type": "markdown",
   "metadata": {
    "id": "lcc_ZqmoqtW2"
   },
   "source": [
    "**1-Qual a média da idade da mae, peso, apgar 1 min, apgar 5 min, quantidade de filhos vivos e quantidades de filhos mortos?**"
   ]
  },
  {
   "cell_type": "code",
   "execution_count": 8,
   "metadata": {
    "colab": {
     "base_uri": "https://localhost:8080/"
    },
    "id": "5A6bcrI60A-m",
    "outputId": "0ffbe893-afde-4966-ff58-0af53832bf3f"
   },
   "outputs": [
    {
     "data": {
      "text/plain": [
       "IDADEMAE        26.148079\n",
       "PESO          3223.196332\n",
       "APGAR1           8.443829\n",
       "APGAR5           9.526913\n",
       "QTDFILVIVO       1.123062\n",
       "QTDFILMORT       0.310486\n",
       "dtype: float64"
      ]
     },
     "execution_count": 8,
     "metadata": {
      "tags": []
     },
     "output_type": "execute_result"
    }
   ],
   "source": [
    "dfsergipe[['IDADEMAE','PESO','APGAR1','APGAR5','QTDFILVIVO','QTDFILMORT']].mean()"
   ]
  },
  {
   "cell_type": "markdown",
   "metadata": {
    "id": "ADM8OU5t2Tnl"
   },
   "source": [
    "**2-Qual a idade tal que metade das idades das mães são menores que ela (mediana)?**"
   ]
  },
  {
   "cell_type": "code",
   "execution_count": 10,
   "metadata": {
    "colab": {
     "base_uri": "https://localhost:8080/"
    },
    "id": "CvYoDBx-2mgh",
    "outputId": "5a8741ed-37a3-49c6-8abd-fdcad01a581e"
   },
   "outputs": [
    {
     "data": {
      "text/plain": [
       "26.0"
      ]
     },
     "execution_count": 10,
     "metadata": {
      "tags": []
     },
     "output_type": "execute_result"
    }
   ],
   "source": [
    "dfsergipe.IDADEMAE.median()"
   ]
  },
  {
   "cell_type": "markdown",
   "metadata": {
    "id": "MvLT4cNT7mjp"
   },
   "source": [
    "**3-Qual o apgar de 1 min que mais aparece (moda)?**"
   ]
  },
  {
   "cell_type": "code",
   "execution_count": 11,
   "metadata": {
    "colab": {
     "base_uri": "https://localhost:8080/"
    },
    "id": "WNmqw38C74t9",
    "outputId": "e61db63e-a50e-42f5-a6ef-1e436a9988a7"
   },
   "outputs": [
    {
     "data": {
      "text/plain": [
       "0    9\n",
       "dtype: Int64"
      ]
     },
     "execution_count": 11,
     "metadata": {
      "tags": []
     },
     "output_type": "execute_result"
    }
   ],
   "source": [
    "dfsergipe.APGAR1.mode()"
   ]
  },
  {
   "cell_type": "markdown",
   "metadata": {
    "id": "NovNGZux8OZe"
   },
   "source": [
    "**4-Qual o apgar de 5 min que mais aparece?**"
   ]
  },
  {
   "cell_type": "code",
   "execution_count": 12,
   "metadata": {
    "colab": {
     "base_uri": "https://localhost:8080/"
    },
    "id": "0o6C9S8T8cUI",
    "outputId": "8e6e9583-aa5f-4fbb-8b71-64fbfc3e4275"
   },
   "outputs": [
    {
     "data": {
      "text/plain": [
       "0    10\n",
       "dtype: Int64"
      ]
     },
     "execution_count": 12,
     "metadata": {
      "tags": []
     },
     "output_type": "execute_result"
    }
   ],
   "source": [
    "dfsergipe.APGAR5.mode()"
   ]
  },
  {
   "cell_type": "markdown",
   "metadata": {
    "id": "w6fLlt2l8xO8"
   },
   "source": [
    "**5-Qual o peso da criança tal que 10% dos pesos são menores (P10)?**"
   ]
  },
  {
   "cell_type": "code",
   "execution_count": 13,
   "metadata": {
    "colab": {
     "base_uri": "https://localhost:8080/"
    },
    "id": "5NPKOqP79AIf",
    "outputId": "ac2f334e-6281-4482-8879-aaff5d6790d0"
   },
   "outputs": [
    {
     "data": {
      "text/plain": [
       "0.1    2570.0\n",
       "Name: PESO, dtype: float64"
      ]
     },
     "execution_count": 13,
     "metadata": {
      "tags": []
     },
     "output_type": "execute_result"
    }
   ],
   "source": [
    "dfsergipe.PESO.quantile([0.10])"
   ]
  },
  {
   "cell_type": "markdown",
   "metadata": {
    "id": "ZOH4vnup9GjP"
   },
   "source": [
    "**6-Qual o peso da criança tal que 75% dos pesos são menores (Q3)?**"
   ]
  },
  {
   "cell_type": "code",
   "execution_count": 16,
   "metadata": {
    "colab": {
     "base_uri": "https://localhost:8080/"
    },
    "id": "_W9uITUx9VUY",
    "outputId": "08cd4d99-a157-481d-ba56-1e041c0ec097"
   },
   "outputs": [
    {
     "data": {
      "text/plain": [
       "0.75    3575.0\n",
       "Name: PESO, dtype: float64"
      ]
     },
     "execution_count": 16,
     "metadata": {
      "tags": []
     },
     "output_type": "execute_result"
    }
   ],
   "source": [
    "dfsergipe.PESO.quantile([0.75])"
   ]
  },
  {
   "cell_type": "markdown",
   "metadata": {
    "id": "UzT2pP9D9YfJ"
   },
   "source": [
    "**7-Qual a quantidade de filhos mortos que mais aparece?**"
   ]
  },
  {
   "cell_type": "code",
   "execution_count": 17,
   "metadata": {
    "colab": {
     "base_uri": "https://localhost:8080/"
    },
    "id": "oRSyAw2m9grq",
    "outputId": "3162ba27-d33e-4887-9264-8caf8ca32248"
   },
   "outputs": [
    {
     "data": {
      "text/plain": [
       "0    0\n",
       "dtype: Int64"
      ]
     },
     "execution_count": 17,
     "metadata": {
      "tags": []
     },
     "output_type": "execute_result"
    }
   ],
   "source": [
    "dfsergipe.QTDFILMORT.mode()"
   ]
  },
  {
   "cell_type": "markdown",
   "metadata": {
    "id": "u2GTKHVO9hGc"
   },
   "source": [
    "**8-Qual a média de idade de mães solteiras?**"
   ]
  },
  {
   "cell_type": "code",
   "execution_count": 19,
   "metadata": {
    "colab": {
     "base_uri": "https://localhost:8080/"
    },
    "id": "9H6zQCnm9qNY",
    "outputId": "7f0067a7-4f39-4f9d-edf1-dcbe26174dc5"
   },
   "outputs": [
    {
     "data": {
      "text/plain": [
       "24.929703822047436"
      ]
     },
     "execution_count": 19,
     "metadata": {
      "tags": []
     },
     "output_type": "execute_result"
    }
   ],
   "source": [
    "dfsergipe.IDADEMAE[(dfsergipe.ESTCIVMAE == '1')].mean()"
   ]
  },
  {
   "cell_type": "markdown",
   "metadata": {
    "id": "2G3h5dWK9qpz"
   },
   "source": [
    "**9-Qual a quantidade de filhos vivos das mães com até 3 anos de escolaridade tal que 25% dessa quantidade são menores (Q1)?**"
   ]
  },
  {
   "cell_type": "code",
   "execution_count": 31,
   "metadata": {
    "colab": {
     "base_uri": "https://localhost:8080/"
    },
    "id": "5wlZ8QS798FC",
    "outputId": "7b7f06c1-09c5-4673-c7d9-7848353aaad9"
   },
   "outputs": [
    {
     "data": {
      "text/plain": [
       "0.25    1\n",
       "Name: QTDFILVIVO, dtype: object"
      ]
     },
     "execution_count": 31,
     "metadata": {
      "tags": []
     },
     "output_type": "execute_result"
    }
   ],
   "source": [
    "escolaridade = dfsergipe[(dfsergipe.ESCMAE =='1') | (dfsergipe.ESCMAE =='2')]\n",
    "escolaridade.QTDFILVIVO.quantile([0.25])                                                     "
   ]
  },
  {
   "cell_type": "markdown",
   "metadata": {
    "id": "wpBKFp9y98dS"
   },
   "source": [
    "**10-Qual a moda da idade das maes para as crianças que nasceram com anomalia congênita?**"
   ]
  },
  {
   "cell_type": "code",
   "execution_count": 27,
   "metadata": {
    "colab": {
     "base_uri": "https://localhost:8080/"
    },
    "id": "34OPMUSC-HdP",
    "outputId": "1209e92d-a1dc-4240-a535-2a39add392a2"
   },
   "outputs": [
    {
     "data": {
      "text/plain": [
       "0    21\n",
       "dtype: Int64"
      ]
     },
     "execution_count": 27,
     "metadata": {
      "tags": []
     },
     "output_type": "execute_result"
    }
   ],
   "source": [
    "anomalia = dfsergipe[dfsergipe.IDANOMAL == '1']\n",
    "anomalia.IDADEMAE.mode()"
   ]
  }
 ],
 "metadata": {
  "colab": {
   "collapsed_sections": [],
   "name": "Aula 2 - Exercício",
   "provenance": []
  },
  "kernelspec": {
   "display_name": "Python 3",
   "language": "python",
   "name": "python3"
  },
  "language_info": {
   "codemirror_mode": {
    "name": "ipython",
    "version": 3
   },
   "file_extension": ".py",
   "mimetype": "text/x-python",
   "name": "python",
   "nbconvert_exporter": "python",
   "pygments_lexer": "ipython3",
   "version": "3.8.5"
  }
 },
 "nbformat": 4,
 "nbformat_minor": 1
}
